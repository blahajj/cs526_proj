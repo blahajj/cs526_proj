{
 "cells": [
  {
   "cell_type": "code",
   "execution_count": 10,
   "metadata": {},
   "outputs": [
    {
     "name": "stderr",
     "output_type": "stream",
     "text": [
      "[*********************100%%**********************]  2 of 2 completed"
     ]
    },
    {
     "name": "stdout",
     "output_type": "stream",
     "text": [
      "               S&P 500        VIX\n",
      "Date                             \n",
      "1990-01-01  339.940002  19.730000\n",
      "1990-04-01  358.019989  15.500000\n",
      "1990-07-01  306.049988  29.110001\n",
      "1990-10-01  330.220001  26.379999\n",
      "1991-01-01  375.220001  16.879999\n"
     ]
    },
    {
     "name": "stderr",
     "output_type": "stream",
     "text": [
      "\n"
     ]
    }
   ],
   "source": [
    "import yfinance as yf\n",
    "import pandas as pd\n",
    "\n",
    "# Define the tickers for S&P 500 and VIX\n",
    "tickers = ['^GSPC', '^VIX']  # S&P 500 Index (^GSPC) and VIX (^VIX)\n",
    "\n",
    "# Download data from 1990 to today, with monthly frequency\n",
    "data = yf.download(tickers, start='1990-01-01', end=pd.Timestamp.today().strftime('%Y-%m-%d'), interval='3mo')\n",
    "\n",
    "# Extract the adjusted close prices for the S&P 500 and VIX\n",
    "sp500 = data['Adj Close']['^GSPC']\n",
    "vix = data['Adj Close']['^VIX']\n",
    "\n",
    "# Combine the data into a single DataFrame\n",
    "combined_data = pd.DataFrame({'S&P 500': sp500, 'VIX': vix})\n",
    "\n",
    "# Display the first few rows of the data\n",
    "print(combined_data.head())\n",
    "\n"
   ]
  },
  {
   "cell_type": "code",
   "execution_count": null,
   "metadata": {},
   "outputs": [],
   "source": [
    "combined_data.to_csv('../../datasets/quarterly/sp500_vix_quarterly.csv')"
   ]
  },
  {
   "cell_type": "markdown",
   "metadata": {},
   "source": [
    "## Converting data to quarterly"
   ]
  },
  {
   "cell_type": "code",
   "execution_count": 1,
   "metadata": {},
   "outputs": [
    {
     "data": {
      "text/html": [
       "<div>\n",
       "<style scoped>\n",
       "    .dataframe tbody tr th:only-of-type {\n",
       "        vertical-align: middle;\n",
       "    }\n",
       "\n",
       "    .dataframe tbody tr th {\n",
       "        vertical-align: top;\n",
       "    }\n",
       "\n",
       "    .dataframe thead th {\n",
       "        text-align: right;\n",
       "    }\n",
       "</style>\n",
       "<table border=\"1\" class=\"dataframe\">\n",
       "  <thead>\n",
       "    <tr style=\"text-align: right;\">\n",
       "      <th></th>\n",
       "      <th>DATE</th>\n",
       "      <th>T10Y2Y</th>\n",
       "    </tr>\n",
       "  </thead>\n",
       "  <tbody>\n",
       "    <tr>\n",
       "      <th>0</th>\n",
       "      <td>1976-06-01</td>\n",
       "      <td>0.68</td>\n",
       "    </tr>\n",
       "    <tr>\n",
       "      <th>1</th>\n",
       "      <td>1976-06-02</td>\n",
       "      <td>0.71</td>\n",
       "    </tr>\n",
       "    <tr>\n",
       "      <th>2</th>\n",
       "      <td>1976-06-03</td>\n",
       "      <td>0.70</td>\n",
       "    </tr>\n",
       "    <tr>\n",
       "      <th>3</th>\n",
       "      <td>1976-06-04</td>\n",
       "      <td>0.77</td>\n",
       "    </tr>\n",
       "    <tr>\n",
       "      <th>4</th>\n",
       "      <td>1976-06-07</td>\n",
       "      <td>0.79</td>\n",
       "    </tr>\n",
       "  </tbody>\n",
       "</table>\n",
       "</div>"
      ],
      "text/plain": [
       "         DATE T10Y2Y\n",
       "0  1976-06-01   0.68\n",
       "1  1976-06-02   0.71\n",
       "2  1976-06-03   0.70\n",
       "3  1976-06-04   0.77\n",
       "4  1976-06-07   0.79"
      ]
     },
     "execution_count": 1,
     "metadata": {},
     "output_type": "execute_result"
    }
   ],
   "source": [
    "import pandas as pd\n",
    "\n",
    "# Load the dataset\n",
    "file_path = '../../datasets/T10Y2Y.csv'\n",
    "data = pd.read_csv(file_path)\n",
    "\n",
    "data.head()"
   ]
  },
  {
   "cell_type": "code",
   "execution_count": null,
   "metadata": {},
   "outputs": [],
   "source": [
    "data['DATE'] = pd.to_datetime(data['DATE'])\n",
    "data.set_index('DATE', inplace=True)\n",
    "\n",
    "\n",
    "# Convert the 'DGS10' column to numeric, forcing errors to NaN if necessary\n",
    "data['T10Y2Y'] = pd.to_numeric(data['T10Y2Y'], errors='coerce')\n",
    "\n",
    "# Resample the data again to quarterly season (January, April, July, October) and calculate the mean\n",
    "seasonal_mean_data_corrected = data.resample('QS-JAN').mean()\n"
   ]
  },
  {
   "cell_type": "code",
   "execution_count": 9,
   "metadata": {},
   "outputs": [],
   "source": [
    "seasonal_mean_data_corrected.to_csv('../../datasets/quarterly/T10Y2Y.csv')"
   ]
  }
 ],
 "metadata": {
  "kernelspec": {
   "display_name": "Python 3",
   "language": "python",
   "name": "python3"
  },
  "language_info": {
   "codemirror_mode": {
    "name": "ipython",
    "version": 3
   },
   "file_extension": ".py",
   "mimetype": "text/x-python",
   "name": "python",
   "nbconvert_exporter": "python",
   "pygments_lexer": "ipython3",
   "version": "3.10.11"
  }
 },
 "nbformat": 4,
 "nbformat_minor": 2
}
