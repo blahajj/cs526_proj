{
 "cells": [
  {
   "cell_type": "markdown",
   "metadata": {},
   "source": [
    "### Cleaning insider trading data"
   ]
  },
  {
   "cell_type": "code",
   "execution_count": null,
   "metadata": {},
   "outputs": [],
   "source": [
    "import sqlite3\n",
    "import pandas as pd"
   ]
  },
  {
   "cell_type": "code",
   "execution_count": null,
   "metadata": {},
   "outputs": [],
   "source": [
    "csv_file = 'C:\\\\Users\\\\hai74\\\\Desktop\\\\lit_nonderiv.csv'\n",
    "db_file = '../../datasets/insider_trading.db'\n",
    "table_name = 'nonderiv'\n",
    "\n",
    "# Set the chunk size (number of rows per chunk, you can adjust this as needed)\n",
    "chunk_size = 100000  # Adjust depending on memory constraints\n",
    "\n",
    "# Create a connection to the SQLite database\n",
    "conn = sqlite3.connect(db_file)\n",
    "\n",
    "# Use the first chunk to create the table, then append subsequent chunks\n",
    "for i, chunk in enumerate(pd.read_csv(csv_file, chunksize=chunk_size)):\n",
    "    if i == 0:\n",
    "        # Create table in the first chunk\n",
    "        chunk.to_sql(table_name, conn, if_exists='replace', index=False)\n",
    "    else:\n",
    "        # Append subsequent chunks to the table\n",
    "        chunk.to_sql(table_name, conn, if_exists='append', index=False)\n",
    "    \n",
    "    print(f\"Chunk {i + 1} inserted.\")\n"
   ]
  },
  {
   "cell_type": "code",
   "execution_count": null,
   "metadata": {},
   "outputs": [
    {
     "name": "stdout",
     "output_type": "stream",
     "text": [
      "'isBuy' column successfully added to nonderiv.\n"
     ]
    }
   ],
   "source": [
    "# add isBuy col\n",
    "alter_table_query = f\"\"\"\n",
    "ALTER TABLE {table_name}\n",
    "ADD COLUMN isBuy INTEGER;\n",
    "\"\"\"\n",
    "try:\n",
    "    conn.execute(alter_table_query)\n",
    "    print(f\"'isBuy' column successfully added to {table_name}.\")\n",
    "except sqlite3.OperationalError as e:\n",
    "    if 'duplicate column name' in str(e).lower():\n",
    "        print(\"'isBuy' column already exists.\")\n",
    "    else:\n",
    "        raise  # Raise other errors if they occur\n",
    "\n",
    "# Update the 'isBuy' column based on 'transactionCode'\n",
    "update_isBuy_query = f\"\"\"\n",
    "UPDATE {table_name}\n",
    "SET isBuy = CASE\n",
    "    WHEN transactionCode IN ('P', 'A', 'M', 'I', 'G', 'L') THEN 1  -- Buy codes\n",
    "    WHEN transactionCode IN ('S', 'D', 'F', 'W', 'U') THEN 0  -- Sell codes\n",
    "    ELSE NULL  -- Set to NULL for undefined codes\n",
    "END;\n",
    "\"\"\"\n",
    "\n",
    "conn.execute(update_isBuy_query)\n",
    "conn.commit()  # Commit the changes"
   ]
  },
  {
   "cell_type": "code",
   "execution_count": null,
   "metadata": {},
   "outputs": [],
   "source": [
    "# query to select filingDate and isBuy where isBuy is not NULL\n",
    "select_date_and_buy_query = f\"\"\"\n",
    "SELECT transactionDate, isBuy FROM {table_name}\n",
    "WHERE isBuy IS NOT NULL;\n",
    "\"\"\"\n",
    "\n",
    "# Execute the query and load the result into a Pandas DataFrame\n",
    "df = pd.read_sql_query(select_date_and_buy_query, conn)"
   ]
  },
  {
   "cell_type": "code",
   "execution_count": null,
   "metadata": {},
   "outputs": [],
   "source": [
    "df.set_index('transactionDate', inplace=True)"
   ]
  },
  {
   "cell_type": "code",
   "execution_count": null,
   "metadata": {},
   "outputs": [
    {
     "data": {
      "text/html": [
       "<div>\n",
       "<style scoped>\n",
       "    .dataframe tbody tr th:only-of-type {\n",
       "        vertical-align: middle;\n",
       "    }\n",
       "\n",
       "    .dataframe tbody tr th {\n",
       "        vertical-align: top;\n",
       "    }\n",
       "\n",
       "    .dataframe thead th {\n",
       "        text-align: right;\n",
       "    }\n",
       "</style>\n",
       "<table border=\"1\" class=\"dataframe\">\n",
       "  <thead>\n",
       "    <tr style=\"text-align: right;\">\n",
       "      <th></th>\n",
       "      <th>isBuy</th>\n",
       "    </tr>\n",
       "    <tr>\n",
       "      <th>transactionDate</th>\n",
       "      <th></th>\n",
       "    </tr>\n",
       "  </thead>\n",
       "  <tbody>\n",
       "    <tr>\n",
       "      <th>2003-05-05</th>\n",
       "      <td>1</td>\n",
       "    </tr>\n",
       "    <tr>\n",
       "      <th>2003-05-05</th>\n",
       "      <td>1</td>\n",
       "    </tr>\n",
       "    <tr>\n",
       "      <th>2002-10-28</th>\n",
       "      <td>1</td>\n",
       "    </tr>\n",
       "    <tr>\n",
       "      <th>2002-12-30</th>\n",
       "      <td>1</td>\n",
       "    </tr>\n",
       "    <tr>\n",
       "      <th>2002-12-18</th>\n",
       "      <td>1</td>\n",
       "    </tr>\n",
       "    <tr>\n",
       "      <th>...</th>\n",
       "      <td>...</td>\n",
       "    </tr>\n",
       "    <tr>\n",
       "      <th>2024-10-16</th>\n",
       "      <td>0</td>\n",
       "    </tr>\n",
       "    <tr>\n",
       "      <th>2024-10-16</th>\n",
       "      <td>1</td>\n",
       "    </tr>\n",
       "    <tr>\n",
       "      <th>2024-10-16</th>\n",
       "      <td>0</td>\n",
       "    </tr>\n",
       "    <tr>\n",
       "      <th>2024-10-16</th>\n",
       "      <td>1</td>\n",
       "    </tr>\n",
       "    <tr>\n",
       "      <th>2024-10-16</th>\n",
       "      <td>0</td>\n",
       "    </tr>\n",
       "  </tbody>\n",
       "</table>\n",
       "<p>16258481 rows × 1 columns</p>\n",
       "</div>"
      ],
      "text/plain": [
       "                 isBuy\n",
       "transactionDate       \n",
       "2003-05-05           1\n",
       "2003-05-05           1\n",
       "2002-10-28           1\n",
       "2002-12-30           1\n",
       "2002-12-18           1\n",
       "...                ...\n",
       "2024-10-16           0\n",
       "2024-10-16           1\n",
       "2024-10-16           0\n",
       "2024-10-16           1\n",
       "2024-10-16           0\n",
       "\n",
       "[16258481 rows x 1 columns]"
      ]
     },
     "metadata": {},
     "output_type": "display_data"
    }
   ],
   "source": [
    "df"
   ]
  },
  {
   "cell_type": "code",
   "execution_count": null,
   "metadata": {},
   "outputs": [],
   "source": [
    "df.to_csv('../datasets/insider_nonderiv.csv')"
   ]
  },
  {
   "cell_type": "code",
   "execution_count": null,
   "metadata": {},
   "outputs": [],
   "source": [
    "conn.close()"
   ]
  }
 ],
 "metadata": {
  "language_info": {
   "name": "python"
  }
 },
 "nbformat": 4,
 "nbformat_minor": 2
}
