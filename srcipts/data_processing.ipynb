{
 "cells": [
  {
   "cell_type": "code",
   "execution_count": null,
   "metadata": {},
   "outputs": [],
   "source": [
    "import yfinance as yf\n",
    "import pandas as pd\n",
    "\n",
    "# Define the tickers for S&P 500 and VIX\n",
    "tickers = ['^GSPC', '^VIX']  # S&P 500 Index (^GSPC) and VIX (^VIX)\n",
    "\n",
    "# Download data from 1990 to today, with monthly frequency\n",
    "data = yf.download(tickers, start='1990-01-01', end=pd.Timestamp.today().strftime('%Y-%m-%d'), interval='1mo')\n",
    "\n",
    "# Extract the adjusted close prices for the S&P 500 and VIX\n",
    "sp500 = data['Adj Close']['^GSPC']\n",
    "vix = data['Adj Close']['^VIX']\n",
    "\n",
    "# Combine the data into a single DataFrame\n",
    "combined_data = pd.DataFrame({'S&P 500': sp500, 'VIX': vix})\n",
    "\n",
    "# Display the first few rows of the data\n",
    "print(combined_data.head())\n",
    "\n"
   ]
  }
 ],
 "metadata": {
  "language_info": {
   "name": "python"
  }
 },
 "nbformat": 4,
 "nbformat_minor": 2
}
