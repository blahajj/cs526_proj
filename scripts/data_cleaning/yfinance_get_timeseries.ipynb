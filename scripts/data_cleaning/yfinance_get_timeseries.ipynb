{
 "cells": [
  {
   "cell_type": "markdown",
   "metadata": {},
   "source": [
    "### Get financial timeseries from yfinance"
   ]
  },
  {
   "cell_type": "code",
   "execution_count": 10,
   "metadata": {},
   "outputs": [
    {
     "name": "stderr",
     "output_type": "stream",
     "text": [
      "[*********************100%%**********************]  2 of 2 completed"
     ]
    },
    {
     "name": "stdout",
     "output_type": "stream",
     "text": [
      "               S&P 500        VIX\n",
      "Date                             \n",
      "1990-01-01  339.940002  19.730000\n",
      "1990-04-01  358.019989  15.500000\n",
      "1990-07-01  306.049988  29.110001\n",
      "1990-10-01  330.220001  26.379999\n",
      "1991-01-01  375.220001  16.879999\n"
     ]
    },
    {
     "name": "stderr",
     "output_type": "stream",
     "text": [
      "\n"
     ]
    }
   ],
   "source": [
    "import yfinance as yf\n",
    "import pandas as pd\n",
    "\n",
    "# Define the tickers for S&P 500 and VIX\n",
    "tickers = ['^GSPC', '^VIX']  # S&P 500 Index (^GSPC) and VIX (^VIX)\n",
    "\n",
    "# Download data from 1990 to today, with monthly frequency\n",
    "data = yf.download(tickers, start='1990-01-01', end=pd.Timestamp.today().strftime('%Y-%m-%d'), interval='3mo')\n",
    "\n",
    "# Extract the adjusted close prices for the S&P 500 and VIX\n",
    "sp500 = data['Adj Close']['^GSPC']\n",
    "vix = data['Adj Close']['^VIX']\n",
    "\n",
    "# Combine the data into a single DataFrame\n",
    "combined_data = pd.DataFrame({'S&P 500': sp500, 'VIX': vix})\n",
    "\n",
    "# Display the first few rows of the data\n",
    "print(combined_data.head())\n",
    "\n"
   ]
  }
 ],
 "metadata": {
  "kernelspec": {
   "display_name": "Python 3",
   "language": "python",
   "name": "python3"
  },
  "language_info": {
   "codemirror_mode": {
    "name": "ipython",
    "version": 3
   },
   "file_extension": ".py",
   "mimetype": "text/x-python",
   "name": "python",
   "nbconvert_exporter": "python",
   "pygments_lexer": "ipython3",
   "version": "3.10.11"
  }
 },
 "nbformat": 4,
 "nbformat_minor": 2
}
