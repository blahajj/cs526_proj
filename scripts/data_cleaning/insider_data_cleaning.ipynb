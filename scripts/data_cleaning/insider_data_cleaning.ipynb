{
 "cells": [
  {
   "cell_type": "markdown",
   "metadata": {},
   "source": [
    "### Cleaning insider trading data"
   ]
  },
  {
   "cell_type": "code",
   "execution_count": 17,
   "metadata": {},
   "outputs": [],
   "source": [
    "import sqlite3\n",
    "import pandas as pd"
   ]
  },
  {
   "cell_type": "code",
   "execution_count": null,
   "metadata": {},
   "outputs": [],
   "source": [
    "csv_file = 'C:\\\\Users\\\\hai74\\\\Desktop\\\\lit_nonderiv.csv'\n",
    "db_file = '../../datasets/insider_trading.db'\n",
    "table_name = 'nonderiv'\n",
    "\n",
    "# Set the chunk size (number of rows per chunk, you can adjust this as needed)\n",
    "chunk_size = 100000  # Adjust depending on memory constraints\n",
    "\n",
    "# Create a connection to the SQLite database\n",
    "conn = sqlite3.connect(db_file)\n",
    "\n",
    "# Use the first chunk to create the table, then append subsequent chunks\n",
    "for i, chunk in enumerate(pd.read_csv(csv_file, chunksize=chunk_size)):\n",
    "    if i == 0:\n",
    "        # Create table in the first chunk\n",
    "        chunk.to_sql(table_name, conn, if_exists='replace', index=False)\n",
    "    else:\n",
    "        # Append subsequent chunks to the table\n",
    "        chunk.to_sql(table_name, conn, if_exists='append', index=False)\n",
    "    \n",
    "    print(f\"Chunk {i + 1} inserted.\")\n"
   ]
  },
  {
   "cell_type": "code",
   "execution_count": null,
   "metadata": {},
   "outputs": [
    {
     "name": "stdout",
     "output_type": "stream",
     "text": [
      "'isBuy' column successfully added to nonderiv.\n"
     ]
    }
   ],
   "source": [
    "# add isBuy col\n",
    "alter_table_query = f\"\"\"\n",
    "ALTER TABLE {table_name}\n",
    "ADD COLUMN isBuy INTEGER;\n",
    "\"\"\"\n",
    "try:\n",
    "    conn.execute(alter_table_query)\n",
    "    print(f\"'isBuy' column successfully added to {table_name}.\")\n",
    "except sqlite3.OperationalError as e:\n",
    "    if 'duplicate column name' in str(e).lower():\n",
    "        print(\"'isBuy' column already exists.\")\n",
    "    else:\n",
    "        raise  # Raise other errors if they occur\n",
    "\n",
    "# Update the 'isBuy' column based on 'transactionCode'\n",
    "update_isBuy_query = f\"\"\"\n",
    "UPDATE {table_name}\n",
    "SET isBuy = CASE\n",
    "    WHEN transactionCode IN ('P', 'A', 'M', 'I', 'G', 'L') THEN 1  -- Buy codes\n",
    "    WHEN transactionCode IN ('S', 'D', 'F', 'W', 'U') THEN 0  -- Sell codes\n",
    "    ELSE NULL  -- Set to NULL for undefined codes\n",
    "END;\n",
    "\"\"\"\n",
    "\n",
    "conn.execute(update_isBuy_query)\n",
    "conn.commit()  # Commit the changes"
   ]
  },
  {
   "cell_type": "code",
   "execution_count": null,
   "metadata": {},
   "outputs": [],
   "source": [
    "# query to select filingDate and isBuy where isBuy is not NULL\n",
    "select_date_and_buy_query = f\"\"\"\n",
    "SELECT transactionDate, isBuy FROM {table_name}\n",
    "WHERE isBuy IS NOT NULL;\n",
    "\"\"\"\n",
    "\n",
    "# Execute the query and load the result into a Pandas DataFrame\n",
    "df = pd.read_sql_query(select_date_and_buy_query, conn)"
   ]
  },
  {
   "cell_type": "code",
   "execution_count": null,
   "metadata": {},
   "outputs": [],
   "source": [
    "df.set_index('transactionDate', inplace=True)"
   ]
  },
  {
   "cell_type": "code",
   "execution_count": null,
   "metadata": {},
   "outputs": [],
   "source": [
    "df.to_csv('../datasets/insider_nonderiv.csv')"
   ]
  },
  {
   "cell_type": "code",
   "execution_count": null,
   "metadata": {},
   "outputs": [],
   "source": [
    "conn.close()"
   ]
  },
  {
   "cell_type": "markdown",
   "metadata": {},
   "source": [
    "### Transforming buy/sell to daily aggreate insider activities"
   ]
  },
  {
   "cell_type": "code",
   "execution_count": 1,
   "metadata": {},
   "outputs": [],
   "source": [
    "import pandas as pd"
   ]
  },
  {
   "cell_type": "code",
   "execution_count": 36,
   "metadata": {},
   "outputs": [],
   "source": [
    "db_file = '../../datasets/insider_trading.db'\n",
    "conn = sqlite3.connect(db_file)\n",
    "\n",
    "table_name = 'deriv'\n",
    "select_date_and_buy_query = f\"\"\"\n",
    "SELECT transactionDate, isBuy FROM {table_name}\n",
    "WHERE isBuy IS NOT NULL;\n",
    "\"\"\"\n",
    "\n",
    "deriv = pd.read_sql_query(select_date_and_buy_query, conn)"
   ]
  },
  {
   "cell_type": "code",
   "execution_count": 48,
   "metadata": {},
   "outputs": [],
   "source": [
    "# clean up datetime string #TODO: consider regex\n",
    "deriv['transactionDate'] = deriv['transactionDate'].str.strip()\n",
    "deriv['transactionDate'] = deriv['transactionDate'].str.replace(' ', '')\n",
    "deriv['transactionDate'] = deriv['transactionDate'].str.replace('--', '-')\n",
    "deriv['transactionDate'] = deriv['transactionDate'].str.replace('000', '200')\n",
    "\n",
    "# parse datetime\n",
    "deriv['transactionDate'] = pd.to_datetime(deriv['transactionDate'], format='%Y-%m-%d', errors='coerce')\n",
    "deriv.dropna(inplace=True)\n",
    "\n",
    "# Filter the DataFrame to keep only dates between 2003 and 2024\n",
    "start_date = pd.to_datetime('2003-01-01')\n",
    "end_date = pd.to_datetime('2024-12-31')\n",
    "deriv = deriv[(deriv['transactionDate'] >= start_date) & (deriv['transactionDate'] <= end_date)]\n",
    "\n",
    "deriv.set_index('transactionDate', inplace=True)\n",
    "deriv = deriv.sort_index()"
   ]
  },
  {
   "cell_type": "code",
   "execution_count": null,
   "metadata": {},
   "outputs": [],
   "source": [
    "table_name = 'nonderiv'\n",
    "select_date_and_buy_query = f\"\"\"\n",
    "SELECT transactionDate, isBuy FROM {table_name}\n",
    "WHERE isBuy IS NOT NULL;\n",
    "\"\"\"\n",
    "\n",
    "nonderiv = pd.read_sql_query(select_date_and_buy_query, conn)"
   ]
  },
  {
   "cell_type": "code",
   "execution_count": 87,
   "metadata": {},
   "outputs": [],
   "source": [
    "nonderiv['transactionDate'] = nonderiv['transactionDate'].str.strip()\n",
    "nonderiv['transactionDate'] = nonderiv['transactionDate'].str.replace(' ', '')\n",
    "nonderiv['transactionDate'] = nonderiv['transactionDate'].str.replace('--', '-')\n",
    "nonderiv['transactionDate'] = nonderiv['transactionDate'].str.replace('000', '200')\n",
    "\n",
    "# parse datetime\n",
    "nonderiv['transactionDate'] = pd.to_datetime(nonderiv['transactionDate'], format='%Y-%m-%d', errors='coerce')\n",
    "nonderiv.dropna(inplace=True)\n",
    "\n",
    "# Filter the DataFrame to keep only dates between 2003 and 2024\n",
    "start_date = pd.to_datetime('2003-01-01')\n",
    "end_date = pd.to_datetime('2024-12-31')\n",
    "nonderiv = nonderiv[(nonderiv['transactionDate'] >= start_date) & (nonderiv['transactionDate'] <= end_date)]\n",
    "\n",
    "nonderiv.set_index('transactionDate', inplace=True)\n",
    "nonderiv = nonderiv.sort_index()"
   ]
  },
  {
   "cell_type": "markdown",
   "metadata": {},
   "source": [
    "### calculate the daily net buy and sale"
   ]
  },
  {
   "cell_type": "code",
   "execution_count": 95,
   "metadata": {},
   "outputs": [],
   "source": [
    "deriv_grouped = deriv.groupby(deriv.index)\n",
    "\n",
    "# Calculate the number of buys and total transactions for each day\n",
    "deriv_daily_stats = deriv_grouped['isBuy'].agg(['sum', 'count']).rename(columns={'sum': 'num_buys', 'count': 'total_transactions'})\n",
    "\n",
    "# Calculate the number of sales\n",
    "deriv_daily_stats['num_sales'] = deriv_daily_stats['total_transactions'] - deriv_daily_stats['num_buys']\n",
    "\n",
    "# Calculate net buys\n",
    "deriv_daily_stats['net_buys'] = deriv_daily_stats['num_buys'] - deriv_daily_stats['num_sales']"
   ]
  },
  {
   "cell_type": "code",
   "execution_count": 97,
   "metadata": {},
   "outputs": [
    {
     "data": {
      "text/plain": [
       "<Axes: xlabel='transactionDate'>"
      ]
     },
     "execution_count": 97,
     "metadata": {},
     "output_type": "execute_result"
    },
    {
     "data": {
      "image/png": "[encoded data removed]",
      "text/plain": [
       "<Figure size 640x480 with 1 Axes>"
      ]
     },
     "metadata": {},
     "output_type": "display_data"
    }
   ],
   "source": [
    "deriv_daily_stats['net_buys'].plot()"
   ]
  },
  {
   "cell_type": "markdown",
   "metadata": {},
   "source": [
    "Derivative transactions are biased towards buys. We shouldn't incorporate them into the final dataset."
   ]
  },
  {
   "cell_type": "code",
   "execution_count": 101,
   "metadata": {},
   "outputs": [],
   "source": [
    "nonderiv_grouped = nonderiv.groupby(nonderiv.index)\n",
    "\n",
    "# Calculate the number of buys and total transactions for each day\n",
    "nonderiv_daily_stats = nonderiv_grouped['isBuy'].agg(['sum', 'count']).rename(columns={'sum': 'num_buys', 'count': 'total_transactions'})\n",
    "\n",
    "# Calculate the number of sales\n",
    "nonderiv_daily_stats['num_sales'] = nonderiv_daily_stats['total_transactions'] - nonderiv_daily_stats['num_buys']\n",
    "\n",
    "# Calculate net buys\n",
    "nonderiv_daily_stats['net_buys'] = nonderiv_daily_stats['num_buys'] - nonderiv_daily_stats['num_sales']"
   ]
  },
  {
   "cell_type": "code",
   "execution_count": 114,
   "metadata": {},
   "outputs": [],
   "source": [
    "nonderiv_daily_stats.drop(['num_buys','total_transactions', 'num_sales'], axis=1).to_csv('../../datasets/nonderiv_insider_activity.csv')"
   ]
  },
  {
   "cell_type": "code",
   "execution_count": 113,
   "metadata": {},
   "outputs": [
    {
     "data": {
      "text/html": [
       "<div>\n",
       "<style scoped>\n",
       "    .dataframe tbody tr th:only-of-type {\n",
       "        vertical-align: middle;\n",
       "    }\n",
       "\n",
       "    .dataframe tbody tr th {\n",
       "        vertical-align: top;\n",
       "    }\n",
       "\n",
       "    .dataframe thead th {\n",
       "        text-align: right;\n",
       "    }\n",
       "</style>\n",
       "<table border=\"1\" class=\"dataframe\">\n",
       "  <thead>\n",
       "    <tr style=\"text-align: right;\">\n",
       "      <th></th>\n",
       "      <th>num_buys</th>\n",
       "      <th>total_transactions</th>\n",
       "      <th>num_sales</th>\n",
       "      <th>net_buys</th>\n",
       "    </tr>\n",
       "    <tr>\n",
       "      <th>transactionDate</th>\n",
       "      <th></th>\n",
       "      <th></th>\n",
       "      <th></th>\n",
       "      <th></th>\n",
       "    </tr>\n",
       "  </thead>\n",
       "  <tbody>\n",
       "    <tr>\n",
       "      <th>2003-01-01</th>\n",
       "      <td>156</td>\n",
       "      <td>156</td>\n",
       "      <td>0</td>\n",
       "      <td>156</td>\n",
       "    </tr>\n",
       "    <tr>\n",
       "      <th>2003-01-02</th>\n",
       "      <td>201</td>\n",
       "      <td>239</td>\n",
       "      <td>38</td>\n",
       "      <td>163</td>\n",
       "    </tr>\n",
       "    <tr>\n",
       "      <th>2003-01-03</th>\n",
       "      <td>79</td>\n",
       "      <td>81</td>\n",
       "      <td>2</td>\n",
       "      <td>77</td>\n",
       "    </tr>\n",
       "    <tr>\n",
       "      <th>2003-01-04</th>\n",
       "      <td>2</td>\n",
       "      <td>4</td>\n",
       "      <td>2</td>\n",
       "      <td>0</td>\n",
       "    </tr>\n",
       "    <tr>\n",
       "      <th>2003-01-05</th>\n",
       "      <td>10</td>\n",
       "      <td>12</td>\n",
       "      <td>2</td>\n",
       "      <td>8</td>\n",
       "    </tr>\n",
       "    <tr>\n",
       "      <th>...</th>\n",
       "      <td>...</td>\n",
       "      <td>...</td>\n",
       "      <td>...</td>\n",
       "      <td>...</td>\n",
       "    </tr>\n",
       "    <tr>\n",
       "      <th>2024-10-18</th>\n",
       "      <td>39</td>\n",
       "      <td>147</td>\n",
       "      <td>108</td>\n",
       "      <td>-69</td>\n",
       "    </tr>\n",
       "    <tr>\n",
       "      <th>2024-10-24</th>\n",
       "      <td>0</td>\n",
       "      <td>2</td>\n",
       "      <td>2</td>\n",
       "      <td>-2</td>\n",
       "    </tr>\n",
       "    <tr>\n",
       "      <th>2024-11-23</th>\n",
       "      <td>0</td>\n",
       "      <td>2</td>\n",
       "      <td>2</td>\n",
       "      <td>-2</td>\n",
       "    </tr>\n",
       "    <tr>\n",
       "      <th>2024-12-20</th>\n",
       "      <td>2</td>\n",
       "      <td>2</td>\n",
       "      <td>0</td>\n",
       "      <td>2</td>\n",
       "    </tr>\n",
       "    <tr>\n",
       "      <th>2024-12-31</th>\n",
       "      <td>4</td>\n",
       "      <td>4</td>\n",
       "      <td>0</td>\n",
       "      <td>4</td>\n",
       "    </tr>\n",
       "  </tbody>\n",
       "</table>\n",
       "<p>7953 rows × 4 columns</p>\n",
       "</div>"
      ],
      "text/plain": [
       "                 num_buys  total_transactions  num_sales  net_buys\n",
       "transactionDate                                                   \n",
       "2003-01-01            156                 156          0       156\n",
       "2003-01-02            201                 239         38       163\n",
       "2003-01-03             79                  81          2        77\n",
       "2003-01-04              2                   4          2         0\n",
       "2003-01-05             10                  12          2         8\n",
       "...                   ...                 ...        ...       ...\n",
       "2024-10-18             39                 147        108       -69\n",
       "2024-10-24              0                   2          2        -2\n",
       "2024-11-23              0                   2          2        -2\n",
       "2024-12-20              2                   2          0         2\n",
       "2024-12-31              4                   4          0         4\n",
       "\n",
       "[7953 rows x 4 columns]"
      ]
     },
     "execution_count": 113,
     "metadata": {},
     "output_type": "execute_result"
    }
   ],
   "source": [
    "nonderiv_daily_stats"
   ]
  },
  {
   "cell_type": "code",
   "execution_count": null,
   "metadata": {},
   "outputs": [],
   "source": []
  }
 ],
 "metadata": {
  "kernelspec": {
   "display_name": "Python 3",
   "language": "python",
   "name": "python3"
  },
  "language_info": {
   "codemirror_mode": {
    "name": "ipython",
    "version": 3
   },
   "file_extension": ".py",
   "mimetype": "text/x-python",
   "name": "python",
   "nbconvert_exporter": "python",
   "pygments_lexer": "ipython3",
   "version": "3.10.11"
  }
 },
 "nbformat": 4,
 "nbformat_minor": 2
}
