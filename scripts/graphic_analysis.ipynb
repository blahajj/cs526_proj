{
 "cells": [
  {
   "cell_type": "code",
   "execution_count": null,
   "metadata": {},
   "outputs": [],
   "source": [
    "import matplotlib.pyplot as plt\n",
    "import pandas as pd\n",
    "\n",
    "\n",
    "gdp = pd.read_csv('../../datasets/quarterly/GDP.csv', parse_dates=True, index_col=0)\n",
    "gdp = gdp[gdp.index >= pd.to_datetime('2003-01-01') ]\n",
    "gdp.pct_change(1).plot()\n",
    "\n",
    "# Create the plot\n",
    "fig, ax1 = plt.subplots(figsize=(10, 6))\n",
    "\n",
    "# Plot the first time series (gdp.pct_change(1)) on the left y-axis\n",
    "ax1.plot(gdp.index, gdp.pct_change(1), color='b', label='GDP % Change')\n",
    "ax1.set_xlabel('Date')\n",
    "ax1.set_ylabel('GDP % Change', color='b')\n",
    "ax1.tick_params(axis='y', labelcolor='b')\n",
    "\n",
    "# Create the second y-axis, sharing the same x-axis\n",
    "ax2 = ax1.twinx()\n",
    "\n",
    "# Plot the second time series (seasonal_mean_data_corrected) on the right y-axis\n",
    "ax2.plot(seasonal_mean_data_corrected.index, seasonal_mean_data_corrected, color='r', label='Insider Activity')\n",
    "ax2.set_ylabel('Seasonal Mean Data Corrected', color='r')\n",
    "ax2.tick_params(axis='y', labelcolor='r')\n",
    "\n",
    "# Add a title and grid for clarity\n",
    "plt.title('GDP % Change and Insider Activity Over Time')\n",
    "fig.tight_layout()  # Adjust layout to prevent overlap\n",
    "\n",
    "# Display the plot\n",
    "plt.show()"
   ]
  }
 ],
 "metadata": {
  "language_info": {
   "name": "python"
  }
 },
 "nbformat": 4,
 "nbformat_minor": 2
}
